{
 "cells": [
  {
   "cell_type": "code",
   "execution_count": 3,
   "id": "afeb8451-48e3-4b2c-9315-d516ca886e9b",
   "metadata": {},
   "outputs": [],
   "source": [
    "import numpy as np\n",
    "import random"
   ]
  },
  {
   "cell_type": "code",
   "execution_count": 6,
   "id": "63d37817-b143-4843-9320-2896dab123c7",
   "metadata": {},
   "outputs": [],
   "source": [
    "targPos = []\n",
    "for i in range(30):\n",
    "    a = -np.pi/2\n",
    "    b = np.pi/2\n",
    "    targPos.append((b-a) * random.random() + a)\n",
    "#targPos = random.uniform(a,b)"
   ]
  },
  {
   "cell_type": "code",
   "execution_count": 9,
   "id": "a357aa5a-7bba-4503-ba16-91834ea54161",
   "metadata": {},
   "outputs": [
    {
     "data": {
      "text/plain": [
       "(-1.5707963267948966, 1.5707963267948966)"
      ]
     },
     "execution_count": 9,
     "metadata": {},
     "output_type": "execute_result"
    }
   ],
   "source": [
    "a,b"
   ]
  },
  {
   "cell_type": "code",
   "execution_count": 7,
   "id": "39702d5a-bdb8-4c43-851d-b48c7160e44c",
   "metadata": {},
   "outputs": [
    {
     "data": {
      "text/plain": [
       "[0.8132197662442313,\n",
       " 0.07001362747746587,\n",
       " -1.4801188085581214,\n",
       " 0.23418411886493984,\n",
       " -0.6137415120864856,\n",
       " -1.489963430982708,\n",
       " 0.9245167435133035,\n",
       " -1.3723723105702539,\n",
       " -0.40786416595079156,\n",
       " -1.0427062819247674,\n",
       " 1.421421668708506,\n",
       " 0.5444385242303316,\n",
       " -1.2489497878710978,\n",
       " -0.6315959755676304,\n",
       " 0.9455062493653918,\n",
       " -0.2664048806816248,\n",
       " -0.06878784009109684,\n",
       " -0.3004719360650365,\n",
       " -0.2925260872939546,\n",
       " 1.2254888997799673,\n",
       " -0.3645804404129658,\n",
       " 0.7304702716997258,\n",
       " -1.0408604685897993,\n",
       " -0.5269649235574401,\n",
       " -1.4483350967011093,\n",
       " 0.532711271567933,\n",
       " -1.175231059953762,\n",
       " -0.6964789434906571,\n",
       " 0.2100523583002647,\n",
       " 1.5281298266924277]"
      ]
     },
     "execution_count": 7,
     "metadata": {},
     "output_type": "execute_result"
    }
   ],
   "source": [
    "targPos"
   ]
  },
  {
   "cell_type": "code",
   "execution_count": null,
   "id": "50948192-afe0-4f2b-9d49-2e0f592281d8",
   "metadata": {},
   "outputs": [],
   "source": []
  }
 ],
 "metadata": {
  "kernelspec": {
   "display_name": "Python 3 (ipykernel)",
   "language": "python",
   "name": "python3"
  },
  "language_info": {
   "codemirror_mode": {
    "name": "ipython",
    "version": 3
   },
   "file_extension": ".py",
   "mimetype": "text/x-python",
   "name": "python",
   "nbconvert_exporter": "python",
   "pygments_lexer": "ipython3",
   "version": "3.9.13"
  }
 },
 "nbformat": 4,
 "nbformat_minor": 5
}
